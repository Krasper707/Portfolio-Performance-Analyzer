{
  "nbformat": 4,
  "nbformat_minor": 0,
  "metadata": {
    "colab": {
      "provenance": []
    },
    "kernelspec": {
      "name": "python3",
      "display_name": "Python 3"
    },
    "language_info": {
      "name": "python"
    }
  },
  "cells": [
    {
      "cell_type": "code",
      "source": [
        "import yfinance as yf\n",
        "import pandas as pd\n",
        "import numpy as np\n",
        "import plotly.graph_objs as go\n",
        "\n",
        "# Your portfolio: ticker symbols and shares owned\n",
        "portfolio = {\n",
        "    'AAPL': 10,\n",
        "    'MSFT': 5,\n",
        "    'TSLA': 3\n",
        "}\n",
        "\n",
        "# Fetch historical closing prices for last 3 months\n",
        "tickers = list(portfolio.keys())\n",
        "data = yf.download(tickers, period='3mo')['Close']\n",
        "\n",
        "# Fetch S&P 500 index data for comparison\n",
        "sp500 = yf.download('^GSPC', period='3mo')['Close']\n",
        "\n",
        "# Calculate current value per stock and total portfolio value\n",
        "latest_prices = data.iloc[-1]\n",
        "values = latest_prices * pd.Series(portfolio)\n",
        "total_value = values.sum()\n",
        "\n",
        "print(\"Current Portfolio Value:\")\n",
        "print(values)\n",
        "print(f\"Total: ${total_value:.2f}\\n\")\n",
        "\n",
        "# Calculate daily portfolio value (sum of all holdings)\n",
        "daily_values = data.multiply(pd.Series(portfolio), axis=1).sum(axis=1)\n",
        "\n",
        "# Calculate daily returns of portfolio and S&P 500\n",
        "portfolio_returns = daily_values.pct_change().fillna(0)\n",
        "sp500_returns = sp500.pct_change().fillna(0)\n",
        "\n",
        "# Calculate cumulative returns\n",
        "portfolio_cum_returns = (1 + portfolio_returns).cumprod() - 1\n",
        "sp500_cum_returns = (1 + sp500_returns).cumprod() - 1\n",
        "\n",
        "# Calculate annualized volatility of portfolio\n",
        "trading_days = 252\n",
        "volatility = portfolio_returns.std() * np.sqrt(trading_days)\n",
        "\n"
      ],
      "metadata": {
        "colab": {
          "base_uri": "https://localhost:8080/"
        },
        "id": "XcpiusdB5gs6",
        "outputId": "90f31c6d-ec85-4a22-b9f8-6fe6a07ce85e"
      },
      "execution_count": 44,
      "outputs": [
        {
          "output_type": "stream",
          "name": "stderr",
          "text": [
            "[*********************100%***********************]  3 of 3 completed\n",
            "[*********************100%***********************]  1 of 1 completed"
          ]
        },
        {
          "output_type": "stream",
          "name": "stdout",
          "text": [
            "Current Portfolio Value:\n",
            "Ticker\n",
            "AAPL    2068.600006\n",
            "MSFT    2290.850067\n",
            "TSLA    1031.460022\n",
            "dtype: float64\n",
            "Total: $5390.91\n",
            "\n"
          ]
        },
        {
          "output_type": "stream",
          "name": "stderr",
          "text": [
            "\n"
          ]
        }
      ]
    },
    {
      "cell_type": "code",
      "source": [
        "sp500_cum_returns.iloc[-1].item()*100"
      ],
      "metadata": {
        "colab": {
          "base_uri": "https://localhost:8080/"
        },
        "id": "svUn1Eu47rIc",
        "outputId": "25a67006-76b6-4fff-ad0b-3769bfeaccd3"
      },
      "execution_count": 58,
      "outputs": [
        {
          "output_type": "execute_result",
          "data": {
            "text/plain": [
              "-1.208520741963548"
            ]
          },
          "metadata": {},
          "execution_count": 58
        }
      ]
    },
    {
      "cell_type": "code",
      "source": [
        "# Print summary statistics\n",
        "print(f\"Portfolio Total Return (3 months): {portfolio_cum_returns[-1]*100:.2f}%\")\n",
        "print(f\"Portfolio Annualized Volatility: {volatility*100:.2f}%\")\n",
        "print(f\"S&P 500 Total Return (3 months): {sp500_cum_returns.iloc[-1]*100}%\\n\")\n",
        "\n",
        "# Plot portfolio value and cumulative returns with two y-axes\n",
        "fig = go.Figure()\n",
        "\n",
        "# Portfolio value trace\n",
        "fig.add_trace(go.Scatter(\n",
        "    x=daily_values.index,\n",
        "    y=daily_values,\n",
        "    mode='lines',\n",
        "    name='Portfolio Value',\n",
        "    line=dict(color='blue')\n",
        "))\n",
        "\n",
        "# Portfolio cumulative returns trace (secondary y-axis)\n",
        "fig.add_trace(go.Scatter(\n",
        "    x=portfolio_cum_returns.index,\n",
        "    y=portfolio_cum_returns,\n",
        "    mode='lines',\n",
        "    name='Portfolio Cumulative Return',\n",
        "    yaxis='y2',\n",
        "    line=dict(color='green')\n",
        "))\n",
        "\n",
        "# S&P 500 cumulative returns trace (secondary y-axis)\n",
        "fig.add_trace(go.Scatter(\n",
        "    x=sp500_cum_returns.index,\n",
        "    y=sp500_cum_returns,\n",
        "    mode='lines',\n",
        "    name='S&P 500 Cumulative Return',\n",
        "    yaxis='y2',\n",
        "    line=dict(color='red', dash='dash')\n",
        "))\n",
        "\n",
        "fig.update_layout(\n",
        "    title='Portfolio Value and Cumulative Returns vs S&P 500',\n",
        "    xaxis_title='Date',\n",
        "    yaxis=dict(\n",
        "        title='Portfolio Value (USD)',\n",
        "        side='left'\n",
        "    ),\n",
        "    yaxis2=dict(\n",
        "        title='Cumulative Return',\n",
        "        overlaying='y',\n",
        "        side='right',\n",
        "        tickformat=',.0%',\n",
        "        range=[\n",
        "            # Extract the scalar minimum value from the Series returned by min(sp500_cum_returns)\n",
        "            min(portfolio_cum_returns.min(), sp500_cum_returns.min().min()) * 1.1,\n",
        "            max(portfolio_cum_returns.max(), sp500_cum_returns.max().max()) * 1.1\n",
        "        ]\n",
        "    ),\n",
        "    legend=dict(x=0.01, y=0.99),\n",
        "    template='plotly_white',\n",
        "    height=600\n",
        ")\n",
        "\n",
        "fig.show()\n"
      ],
      "metadata": {
        "colab": {
          "base_uri": "https://localhost:8080/",
          "height": 811
        },
        "id": "twUB8rVL7p2H",
        "outputId": "f99ef6a4-a4df-4a28-8a2e-253b7844bd69"
      },
      "execution_count": 64,
      "outputs": [
        {
          "output_type": "stream",
          "name": "stdout",
          "text": [
            "Portfolio Total Return (3 months): -2.04%\n",
            "Portfolio Annualized Volatility: 46.34%\n",
            "S&P 500 Total Return (3 months): Ticker\n",
            "^GSPC   -1.208521\n",
            "Name: 2025-05-20 00:00:00, dtype: float64%\n",
            "\n"
          ]
        },
        {
          "output_type": "stream",
          "name": "stderr",
          "text": [
            "<ipython-input-64-bd2d7304d16b>:2: FutureWarning:\n",
            "\n",
            "Series.__getitem__ treating keys as positions is deprecated. In a future version, integer keys will always be treated as labels (consistent with DataFrame behavior). To access a value by position, use `ser.iloc[pos]`\n",
            "\n"
          ]
        },
        {
          "output_type": "display_data",
          "data": {
            "text/html": [
              "<html>\n",
              "<head><meta charset=\"utf-8\" /></head>\n",
              "<body>\n",
              "    <div>            <script src=\"https://cdnjs.cloudflare.com/ajax/libs/mathjax/2.7.5/MathJax.js?config=TeX-AMS-MML_SVG\"></script><script type=\"text/javascript\">if (window.MathJax && window.MathJax.Hub && window.MathJax.Hub.Config) {window.MathJax.Hub.Config({SVG: {font: \"STIX-Web\"}});}</script>                <script type=\"text/javascript\">window.PlotlyConfig = {MathJaxConfig: 'local'};</script>\n",
              "        <script charset=\"utf-8\" src=\"https://cdn.plot.ly/plotly-2.35.2.min.js\"></script>                <div id=\"93e1d8ca-bd82-4767-a3dd-8bed51e83e99\" class=\"plotly-graph-div\" style=\"height:600px; width:100%;\"></div>            <script type=\"text/javascript\">                                    window.PLOTLYENV=window.PLOTLYENV || {};                                    if (document.getElementById(\"93e1d8ca-bd82-4767-a3dd-8bed51e83e99\")) {                    Plotly.newPlot(                        \"93e1d8ca-bd82-4767-a3dd-8bed51e83e99\",                        [{\"line\":{\"color\":\"blue\"},\"mode\":\"lines\",\"name\":\"Portfolio Value\",\"x\":[\"2025-02-21T00:00:00\",\"2025-02-24T00:00:00\",\"2025-02-25T00:00:00\",\"2025-02-26T00:00:00\",\"2025-02-27T00:00:00\",\"2025-02-28T00:00:00\",\"2025-03-03T00:00:00\",\"2025-03-04T00:00:00\",\"2025-03-05T00:00:00\",\"2025-03-06T00:00:00\",\"2025-03-07T00:00:00\",\"2025-03-10T00:00:00\",\"2025-03-11T00:00:00\",\"2025-03-12T00:00:00\",\"2025-03-13T00:00:00\",\"2025-03-14T00:00:00\",\"2025-03-17T00:00:00\",\"2025-03-18T00:00:00\",\"2025-03-19T00:00:00\",\"2025-03-20T00:00:00\",\"2025-03-21T00:00:00\",\"2025-03-24T00:00:00\",\"2025-03-25T00:00:00\",\"2025-03-26T00:00:00\",\"2025-03-27T00:00:00\",\"2025-03-28T00:00:00\",\"2025-03-31T00:00:00\",\"2025-04-01T00:00:00\",\"2025-04-02T00:00:00\",\"2025-04-03T00:00:00\",\"2025-04-04T00:00:00\",\"2025-04-07T00:00:00\",\"2025-04-08T00:00:00\",\"2025-04-09T00:00:00\",\"2025-04-10T00:00:00\",\"2025-04-11T00:00:00\",\"2025-04-14T00:00:00\",\"2025-04-15T00:00:00\",\"2025-04-16T00:00:00\",\"2025-04-17T00:00:00\",\"2025-04-21T00:00:00\",\"2025-04-22T00:00:00\",\"2025-04-23T00:00:00\",\"2025-04-24T00:00:00\",\"2025-04-25T00:00:00\",\"2025-04-28T00:00:00\",\"2025-04-29T00:00:00\",\"2025-04-30T00:00:00\",\"2025-05-01T00:00:00\",\"2025-05-02T00:00:00\",\"2025-05-05T00:00:00\",\"2025-05-06T00:00:00\",\"2025-05-07T00:00:00\",\"2025-05-08T00:00:00\",\"2025-05-09T00:00:00\",\"2025-05-12T00:00:00\",\"2025-05-13T00:00:00\",\"2025-05-14T00:00:00\",\"2025-05-15T00:00:00\",\"2025-05-16T00:00:00\",\"2025-05-19T00:00:00\",\"2025-05-20T00:00:00\"],\"y\":[5502.993927001953,5475.65234375,5361.418762207031,5267.839569091797,5174.795806884766,5275.485290527344,5170.022979736328,5111.819488525391,5193.038391113281,5121.381683349609,5138.525482177734,4835.587707519531,4796.012008666992,4824.066589355469,4706.473419189453,4821.283981323242,4791.166061401367,4714.130523681641,4792.707870483398,4777.631607055664,4878.686630249023,5001.377624511719,5071.169158935547,4974.855682373047,5004.279693603516,4857.325378417969,4869.381561279297,4941.8052978515625,4991.446685791016,4693.210388183594,4395.5260009765625,4298.114761352539,4157.073379516602,4751.367950439453,4562.162139892578,4674.525817871094,4715.094451904297,4706.19856262207,4519.450881958008,4526.860534667969,4403.879852294922,4539.433380126953,4664.06037902832,4792.452453613281,4900.569030761719,4908.503967285156,4952.013610839844,4941.375640869141,5095.068572998047,5084.852478027344,5003.928985595703,4971.129974365234,4951.369354248047,5013.609039306641,5067.1103515625,5305.2236328125,5373.094879150391,5426.889923095703,5408.610015869141,5433.889923095703,5408.419952392578,5390.910095214844],\"type\":\"scatter\"},{\"line\":{\"color\":\"green\"},\"mode\":\"lines\",\"name\":\"Portfolio Cumulative Return\",\"x\":[\"2025-02-21T00:00:00\",\"2025-02-24T00:00:00\",\"2025-02-25T00:00:00\",\"2025-02-26T00:00:00\",\"2025-02-27T00:00:00\",\"2025-02-28T00:00:00\",\"2025-03-03T00:00:00\",\"2025-03-04T00:00:00\",\"2025-03-05T00:00:00\",\"2025-03-06T00:00:00\",\"2025-03-07T00:00:00\",\"2025-03-10T00:00:00\",\"2025-03-11T00:00:00\",\"2025-03-12T00:00:00\",\"2025-03-13T00:00:00\",\"2025-03-14T00:00:00\",\"2025-03-17T00:00:00\",\"2025-03-18T00:00:00\",\"2025-03-19T00:00:00\",\"2025-03-20T00:00:00\",\"2025-03-21T00:00:00\",\"2025-03-24T00:00:00\",\"2025-03-25T00:00:00\",\"2025-03-26T00:00:00\",\"2025-03-27T00:00:00\",\"2025-03-28T00:00:00\",\"2025-03-31T00:00:00\",\"2025-04-01T00:00:00\",\"2025-04-02T00:00:00\",\"2025-04-03T00:00:00\",\"2025-04-04T00:00:00\",\"2025-04-07T00:00:00\",\"2025-04-08T00:00:00\",\"2025-04-09T00:00:00\",\"2025-04-10T00:00:00\",\"2025-04-11T00:00:00\",\"2025-04-14T00:00:00\",\"2025-04-15T00:00:00\",\"2025-04-16T00:00:00\",\"2025-04-17T00:00:00\",\"2025-04-21T00:00:00\",\"2025-04-22T00:00:00\",\"2025-04-23T00:00:00\",\"2025-04-24T00:00:00\",\"2025-04-25T00:00:00\",\"2025-04-28T00:00:00\",\"2025-04-29T00:00:00\",\"2025-04-30T00:00:00\",\"2025-05-01T00:00:00\",\"2025-05-02T00:00:00\",\"2025-05-05T00:00:00\",\"2025-05-06T00:00:00\",\"2025-05-07T00:00:00\",\"2025-05-08T00:00:00\",\"2025-05-09T00:00:00\",\"2025-05-12T00:00:00\",\"2025-05-13T00:00:00\",\"2025-05-14T00:00:00\",\"2025-05-15T00:00:00\",\"2025-05-16T00:00:00\",\"2025-05-19T00:00:00\",\"2025-05-20T00:00:00\"],\"y\":[0.0,-0.004968492354278986,-0.02572693458741504,-0.0427320765804059,-0.059639920463439466,-0.041342701717018926,-0.0605072350946656,-0.07108393061405294,-0.0563248915045661,-0.06934629561916428,-0.06623093713330364,-0.12128056624006234,-0.12847223306316202,-0.12337417534028883,-0.14474311954155572,-0.12387982882076476,-0.1293528350281845,-0.143351676157507,-0.12907265861830963,-0.13181230609525096,-0.11344866177111224,-0.09115334473274905,-0.07847087854259438,-0.09597289250810348,-0.09062598287658596,-0.11733041270785938,-0.11513957204525738,-0.1019787840209605,-0.09295798759669527,-0.14715326775937965,-0.20124825517093414,-0.21894975383079063,-0.24457968977236588,-0.13658491841585363,-0.17096725883939734,-0.15054861410363418,-0.14317651183142532,-0.14479306627437616,-0.17872871714757332,-0.17738224051898688,-0.1997301994672257,-0.1750975123099855,-0.15245038593576765,-0.1291190727836724,-0.10947220808009106,-0.10803027726412151,-0.10012373690957099,-0.10205686097109412,-0.07412789463610148,-0.07598435588360075,-0.09068971327724917,-0.0966499254209573,-0.10024081074253222,-0.08893066105234304,-0.07920844202656141,-0.03593867207794654,-0.023605159223269112,-0.013829563491397967,-0.017151374757964577,-0.01255752865129911,-0.017185912952824456,-0.020367791292143944],\"yaxis\":\"y2\",\"type\":\"scatter\"},{\"line\":{\"color\":\"red\",\"dash\":\"dash\"},\"mode\":\"lines\",\"name\":\"S&P 500 Cumulative Return\",\"x\":[\"2025-02-21T00:00:00\",\"2025-02-24T00:00:00\",\"2025-02-25T00:00:00\",\"2025-02-26T00:00:00\",\"2025-02-27T00:00:00\",\"2025-02-28T00:00:00\",\"2025-03-03T00:00:00\",\"2025-03-04T00:00:00\",\"2025-03-05T00:00:00\",\"2025-03-06T00:00:00\",\"2025-03-07T00:00:00\",\"2025-03-10T00:00:00\",\"2025-03-11T00:00:00\",\"2025-03-12T00:00:00\",\"2025-03-13T00:00:00\",\"2025-03-14T00:00:00\",\"2025-03-17T00:00:00\",\"2025-03-18T00:00:00\",\"2025-03-19T00:00:00\",\"2025-03-20T00:00:00\",\"2025-03-21T00:00:00\",\"2025-03-24T00:00:00\",\"2025-03-25T00:00:00\",\"2025-03-26T00:00:00\",\"2025-03-27T00:00:00\",\"2025-03-28T00:00:00\",\"2025-03-31T00:00:00\",\"2025-04-01T00:00:00\",\"2025-04-02T00:00:00\",\"2025-04-03T00:00:00\",\"2025-04-04T00:00:00\",\"2025-04-07T00:00:00\",\"2025-04-08T00:00:00\",\"2025-04-09T00:00:00\",\"2025-04-10T00:00:00\",\"2025-04-11T00:00:00\",\"2025-04-14T00:00:00\",\"2025-04-15T00:00:00\",\"2025-04-16T00:00:00\",\"2025-04-17T00:00:00\",\"2025-04-21T00:00:00\",\"2025-04-22T00:00:00\",\"2025-04-23T00:00:00\",\"2025-04-24T00:00:00\",\"2025-04-25T00:00:00\",\"2025-04-28T00:00:00\",\"2025-04-29T00:00:00\",\"2025-04-30T00:00:00\",\"2025-05-01T00:00:00\",\"2025-05-02T00:00:00\",\"2025-05-05T00:00:00\",\"2025-05-06T00:00:00\",\"2025-05-07T00:00:00\",\"2025-05-08T00:00:00\",\"2025-05-09T00:00:00\",\"2025-05-12T00:00:00\",\"2025-05-13T00:00:00\",\"2025-05-14T00:00:00\",\"2025-05-15T00:00:00\",\"2025-05-16T00:00:00\",\"2025-05-19T00:00:00\",\"2025-05-20T00:00:00\"],\"y\":[[0.0],[-0.00496910650440241],[-0.009625583338543797],[-0.00949086837154045],[-0.025204853636532687],[-0.009750310396601125],[-0.027175476191829584],[-0.03907781555499079],[-0.02835461786503979],[-0.045668373814138796],[-0.04039987364889164],[-0.06628325547365821],[-0.07334949804667346],[-0.06882107757357125],[-0.08175606927873469],[-0.06222881406167635],[-0.056211951548085004],[-0.06626660895874803],[-0.056183693073993846],[-0.05824583086003987],[-0.057469210037604634],[-0.04083731157972148],[-0.039327269671105114],[-0.05004543280532714],[-0.05318691437763512],[-0.07187437321811196],[-0.06673392941390432],[-0.06320503065800787],[-0.05690209169549987],[-0.1025439122882944],[-0.15616655934401313],[-0.15813393379883978],[-0.1713516726499379],[-0.09250257208955937],[-0.1239088615489049],[-0.10805853726667414],[-0.10097231887576696],[-0.10252564172314926],[-0.12263658059471039],[-0.12147246138617496],[-0.1421771530236967],[-0.12063104095935828],[-0.10597975296571815],[-0.08786769512354498],[-0.08114242189739351],[-0.08055370368716175],[-0.07521869866478637],[-0.0738500303291374],[-0.06801611707453259],[-0.05429118733500582],[-0.06032632041374231],[-0.06755545522534034],[-0.0635027190661055],[-0.05807124545976394],[-0.05874140978928699],[-0.028095175839978448],[-0.021050614337602136],[-0.020047763317414313],[-0.01599827525864983],[-0.009105075238186822],[-0.008236939185002456],[-0.01208520741963548]],\"yaxis\":\"y2\",\"type\":\"scatter\"}],                        {\"template\":{\"data\":{\"barpolar\":[{\"marker\":{\"line\":{\"color\":\"white\",\"width\":0.5},\"pattern\":{\"fillmode\":\"overlay\",\"size\":10,\"solidity\":0.2}},\"type\":\"barpolar\"}],\"bar\":[{\"error_x\":{\"color\":\"#2a3f5f\"},\"error_y\":{\"color\":\"#2a3f5f\"},\"marker\":{\"line\":{\"color\":\"white\",\"width\":0.5},\"pattern\":{\"fillmode\":\"overlay\",\"size\":10,\"solidity\":0.2}},\"type\":\"bar\"}],\"carpet\":[{\"aaxis\":{\"endlinecolor\":\"#2a3f5f\",\"gridcolor\":\"#C8D4E3\",\"linecolor\":\"#C8D4E3\",\"minorgridcolor\":\"#C8D4E3\",\"startlinecolor\":\"#2a3f5f\"},\"baxis\":{\"endlinecolor\":\"#2a3f5f\",\"gridcolor\":\"#C8D4E3\",\"linecolor\":\"#C8D4E3\",\"minorgridcolor\":\"#C8D4E3\",\"startlinecolor\":\"#2a3f5f\"},\"type\":\"carpet\"}],\"choropleth\":[{\"colorbar\":{\"outlinewidth\":0,\"ticks\":\"\"},\"type\":\"choropleth\"}],\"contourcarpet\":[{\"colorbar\":{\"outlinewidth\":0,\"ticks\":\"\"},\"type\":\"contourcarpet\"}],\"contour\":[{\"colorbar\":{\"outlinewidth\":0,\"ticks\":\"\"},\"colorscale\":[[0.0,\"#0d0887\"],[0.1111111111111111,\"#46039f\"],[0.2222222222222222,\"#7201a8\"],[0.3333333333333333,\"#9c179e\"],[0.4444444444444444,\"#bd3786\"],[0.5555555555555556,\"#d8576b\"],[0.6666666666666666,\"#ed7953\"],[0.7777777777777778,\"#fb9f3a\"],[0.8888888888888888,\"#fdca26\"],[1.0,\"#f0f921\"]],\"type\":\"contour\"}],\"heatmapgl\":[{\"colorbar\":{\"outlinewidth\":0,\"ticks\":\"\"},\"colorscale\":[[0.0,\"#0d0887\"],[0.1111111111111111,\"#46039f\"],[0.2222222222222222,\"#7201a8\"],[0.3333333333333333,\"#9c179e\"],[0.4444444444444444,\"#bd3786\"],[0.5555555555555556,\"#d8576b\"],[0.6666666666666666,\"#ed7953\"],[0.7777777777777778,\"#fb9f3a\"],[0.8888888888888888,\"#fdca26\"],[1.0,\"#f0f921\"]],\"type\":\"heatmapgl\"}],\"heatmap\":[{\"colorbar\":{\"outlinewidth\":0,\"ticks\":\"\"},\"colorscale\":[[0.0,\"#0d0887\"],[0.1111111111111111,\"#46039f\"],[0.2222222222222222,\"#7201a8\"],[0.3333333333333333,\"#9c179e\"],[0.4444444444444444,\"#bd3786\"],[0.5555555555555556,\"#d8576b\"],[0.6666666666666666,\"#ed7953\"],[0.7777777777777778,\"#fb9f3a\"],[0.8888888888888888,\"#fdca26\"],[1.0,\"#f0f921\"]],\"type\":\"heatmap\"}],\"histogram2dcontour\":[{\"colorbar\":{\"outlinewidth\":0,\"ticks\":\"\"},\"colorscale\":[[0.0,\"#0d0887\"],[0.1111111111111111,\"#46039f\"],[0.2222222222222222,\"#7201a8\"],[0.3333333333333333,\"#9c179e\"],[0.4444444444444444,\"#bd3786\"],[0.5555555555555556,\"#d8576b\"],[0.6666666666666666,\"#ed7953\"],[0.7777777777777778,\"#fb9f3a\"],[0.8888888888888888,\"#fdca26\"],[1.0,\"#f0f921\"]],\"type\":\"histogram2dcontour\"}],\"histogram2d\":[{\"colorbar\":{\"outlinewidth\":0,\"ticks\":\"\"},\"colorscale\":[[0.0,\"#0d0887\"],[0.1111111111111111,\"#46039f\"],[0.2222222222222222,\"#7201a8\"],[0.3333333333333333,\"#9c179e\"],[0.4444444444444444,\"#bd3786\"],[0.5555555555555556,\"#d8576b\"],[0.6666666666666666,\"#ed7953\"],[0.7777777777777778,\"#fb9f3a\"],[0.8888888888888888,\"#fdca26\"],[1.0,\"#f0f921\"]],\"type\":\"histogram2d\"}],\"histogram\":[{\"marker\":{\"pattern\":{\"fillmode\":\"overlay\",\"size\":10,\"solidity\":0.2}},\"type\":\"histogram\"}],\"mesh3d\":[{\"colorbar\":{\"outlinewidth\":0,\"ticks\":\"\"},\"type\":\"mesh3d\"}],\"parcoords\":[{\"line\":{\"colorbar\":{\"outlinewidth\":0,\"ticks\":\"\"}},\"type\":\"parcoords\"}],\"pie\":[{\"automargin\":true,\"type\":\"pie\"}],\"scatter3d\":[{\"line\":{\"colorbar\":{\"outlinewidth\":0,\"ticks\":\"\"}},\"marker\":{\"colorbar\":{\"outlinewidth\":0,\"ticks\":\"\"}},\"type\":\"scatter3d\"}],\"scattercarpet\":[{\"marker\":{\"colorbar\":{\"outlinewidth\":0,\"ticks\":\"\"}},\"type\":\"scattercarpet\"}],\"scattergeo\":[{\"marker\":{\"colorbar\":{\"outlinewidth\":0,\"ticks\":\"\"}},\"type\":\"scattergeo\"}],\"scattergl\":[{\"marker\":{\"colorbar\":{\"outlinewidth\":0,\"ticks\":\"\"}},\"type\":\"scattergl\"}],\"scattermapbox\":[{\"marker\":{\"colorbar\":{\"outlinewidth\":0,\"ticks\":\"\"}},\"type\":\"scattermapbox\"}],\"scatterpolargl\":[{\"marker\":{\"colorbar\":{\"outlinewidth\":0,\"ticks\":\"\"}},\"type\":\"scatterpolargl\"}],\"scatterpolar\":[{\"marker\":{\"colorbar\":{\"outlinewidth\":0,\"ticks\":\"\"}},\"type\":\"scatterpolar\"}],\"scatter\":[{\"fillpattern\":{\"fillmode\":\"overlay\",\"size\":10,\"solidity\":0.2},\"type\":\"scatter\"}],\"scatterternary\":[{\"marker\":{\"colorbar\":{\"outlinewidth\":0,\"ticks\":\"\"}},\"type\":\"scatterternary\"}],\"surface\":[{\"colorbar\":{\"outlinewidth\":0,\"ticks\":\"\"},\"colorscale\":[[0.0,\"#0d0887\"],[0.1111111111111111,\"#46039f\"],[0.2222222222222222,\"#7201a8\"],[0.3333333333333333,\"#9c179e\"],[0.4444444444444444,\"#bd3786\"],[0.5555555555555556,\"#d8576b\"],[0.6666666666666666,\"#ed7953\"],[0.7777777777777778,\"#fb9f3a\"],[0.8888888888888888,\"#fdca26\"],[1.0,\"#f0f921\"]],\"type\":\"surface\"}],\"table\":[{\"cells\":{\"fill\":{\"color\":\"#EBF0F8\"},\"line\":{\"color\":\"white\"}},\"header\":{\"fill\":{\"color\":\"#C8D4E3\"},\"line\":{\"color\":\"white\"}},\"type\":\"table\"}]},\"layout\":{\"annotationdefaults\":{\"arrowcolor\":\"#2a3f5f\",\"arrowhead\":0,\"arrowwidth\":1},\"autotypenumbers\":\"strict\",\"coloraxis\":{\"colorbar\":{\"outlinewidth\":0,\"ticks\":\"\"}},\"colorscale\":{\"diverging\":[[0,\"#8e0152\"],[0.1,\"#c51b7d\"],[0.2,\"#de77ae\"],[0.3,\"#f1b6da\"],[0.4,\"#fde0ef\"],[0.5,\"#f7f7f7\"],[0.6,\"#e6f5d0\"],[0.7,\"#b8e186\"],[0.8,\"#7fbc41\"],[0.9,\"#4d9221\"],[1,\"#276419\"]],\"sequential\":[[0.0,\"#0d0887\"],[0.1111111111111111,\"#46039f\"],[0.2222222222222222,\"#7201a8\"],[0.3333333333333333,\"#9c179e\"],[0.4444444444444444,\"#bd3786\"],[0.5555555555555556,\"#d8576b\"],[0.6666666666666666,\"#ed7953\"],[0.7777777777777778,\"#fb9f3a\"],[0.8888888888888888,\"#fdca26\"],[1.0,\"#f0f921\"]],\"sequentialminus\":[[0.0,\"#0d0887\"],[0.1111111111111111,\"#46039f\"],[0.2222222222222222,\"#7201a8\"],[0.3333333333333333,\"#9c179e\"],[0.4444444444444444,\"#bd3786\"],[0.5555555555555556,\"#d8576b\"],[0.6666666666666666,\"#ed7953\"],[0.7777777777777778,\"#fb9f3a\"],[0.8888888888888888,\"#fdca26\"],[1.0,\"#f0f921\"]]},\"colorway\":[\"#636efa\",\"#EF553B\",\"#00cc96\",\"#ab63fa\",\"#FFA15A\",\"#19d3f3\",\"#FF6692\",\"#B6E880\",\"#FF97FF\",\"#FECB52\"],\"font\":{\"color\":\"#2a3f5f\"},\"geo\":{\"bgcolor\":\"white\",\"lakecolor\":\"white\",\"landcolor\":\"white\",\"showlakes\":true,\"showland\":true,\"subunitcolor\":\"#C8D4E3\"},\"hoverlabel\":{\"align\":\"left\"},\"hovermode\":\"closest\",\"mapbox\":{\"style\":\"light\"},\"paper_bgcolor\":\"white\",\"plot_bgcolor\":\"white\",\"polar\":{\"angularaxis\":{\"gridcolor\":\"#EBF0F8\",\"linecolor\":\"#EBF0F8\",\"ticks\":\"\"},\"bgcolor\":\"white\",\"radialaxis\":{\"gridcolor\":\"#EBF0F8\",\"linecolor\":\"#EBF0F8\",\"ticks\":\"\"}},\"scene\":{\"xaxis\":{\"backgroundcolor\":\"white\",\"gridcolor\":\"#DFE8F3\",\"gridwidth\":2,\"linecolor\":\"#EBF0F8\",\"showbackground\":true,\"ticks\":\"\",\"zerolinecolor\":\"#EBF0F8\"},\"yaxis\":{\"backgroundcolor\":\"white\",\"gridcolor\":\"#DFE8F3\",\"gridwidth\":2,\"linecolor\":\"#EBF0F8\",\"showbackground\":true,\"ticks\":\"\",\"zerolinecolor\":\"#EBF0F8\"},\"zaxis\":{\"backgroundcolor\":\"white\",\"gridcolor\":\"#DFE8F3\",\"gridwidth\":2,\"linecolor\":\"#EBF0F8\",\"showbackground\":true,\"ticks\":\"\",\"zerolinecolor\":\"#EBF0F8\"}},\"shapedefaults\":{\"line\":{\"color\":\"#2a3f5f\"}},\"ternary\":{\"aaxis\":{\"gridcolor\":\"#DFE8F3\",\"linecolor\":\"#A2B1C6\",\"ticks\":\"\"},\"baxis\":{\"gridcolor\":\"#DFE8F3\",\"linecolor\":\"#A2B1C6\",\"ticks\":\"\"},\"bgcolor\":\"white\",\"caxis\":{\"gridcolor\":\"#DFE8F3\",\"linecolor\":\"#A2B1C6\",\"ticks\":\"\"}},\"title\":{\"x\":0.05},\"xaxis\":{\"automargin\":true,\"gridcolor\":\"#EBF0F8\",\"linecolor\":\"#EBF0F8\",\"ticks\":\"\",\"title\":{\"standoff\":15},\"zerolinecolor\":\"#EBF0F8\",\"zerolinewidth\":2},\"yaxis\":{\"automargin\":true,\"gridcolor\":\"#EBF0F8\",\"linecolor\":\"#EBF0F8\",\"ticks\":\"\",\"title\":{\"standoff\":15},\"zerolinecolor\":\"#EBF0F8\",\"zerolinewidth\":2}}},\"yaxis\":{\"title\":{\"text\":\"Portfolio Value (USD)\"},\"side\":\"left\"},\"yaxis2\":{\"title\":{\"text\":\"Cumulative Return\"},\"overlaying\":\"y\",\"side\":\"right\",\"tickformat\":\",.0%\",\"range\":[-0.2690376587496025,0.0]},\"legend\":{\"x\":0.01,\"y\":0.99},\"title\":{\"text\":\"Portfolio Value and Cumulative Returns vs S&P 500\"},\"xaxis\":{\"title\":{\"text\":\"Date\"}},\"height\":600},                        {\"responsive\": true}                    ).then(function(){\n",
              "                            \n",
              "var gd = document.getElementById('93e1d8ca-bd82-4767-a3dd-8bed51e83e99');\n",
              "var x = new MutationObserver(function (mutations, observer) {{\n",
              "        var display = window.getComputedStyle(gd).display;\n",
              "        if (!display || display === 'none') {{\n",
              "            console.log([gd, 'removed!']);\n",
              "            Plotly.purge(gd);\n",
              "            observer.disconnect();\n",
              "        }}\n",
              "}});\n",
              "\n",
              "// Listen for the removal of the full notebook cells\n",
              "var notebookContainer = gd.closest('#notebook-container');\n",
              "if (notebookContainer) {{\n",
              "    x.observe(notebookContainer, {childList: true});\n",
              "}}\n",
              "\n",
              "// Listen for the clearing of the current output cell\n",
              "var outputEl = gd.closest('.output');\n",
              "if (outputEl) {{\n",
              "    x.observe(outputEl, {childList: true});\n",
              "}}\n",
              "\n",
              "                        })                };                            </script>        </div>\n",
              "</body>\n",
              "</html>"
            ]
          },
          "metadata": {}
        }
      ]
    }
  ]
}